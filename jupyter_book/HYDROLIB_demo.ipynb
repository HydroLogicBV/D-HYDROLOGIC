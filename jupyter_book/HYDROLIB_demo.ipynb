{
 "cells": [
  {
   "cell_type": "markdown",
   "id": "815ba78b",
   "metadata": {},
   "source": [
    "# Analysing example Tol\n",
    "Multiple output files are provides in 'input_file_path':\n",
    "\n",
    "- 1PT10_clm.nc\n",
    "- 1PT10_fou.nc\n",
    "- 1PT10_map.nc"
   ]
  },
  {
   "cell_type": "code",
   "execution_count": 1,
   "id": "716e703a",
   "metadata": {},
   "outputs": [],
   "source": [
    "import os\n",
    "import sys\n",
    "from pathlib import Path\n",
    "\n",
    "currentdir = os.path.dirname(os.getcwd())\n",
    "sys.path.append(currentdir + r\"/HydroLogic_Inundation_toolbox\")\n",
    "sys.path.append(currentdir + r\"/HydroLogic_Inundation_toolbox/Readers\")\n"
   ]
  },
  {
   "cell_type": "code",
   "execution_count": 2,
   "id": "94c7eb18",
   "metadata": {},
   "outputs": [],
   "source": [
    "# set paths\n",
    "input_file_path = currentdir + r\"/HydroLogic_Inundation_toolbox/Data/Tol/input\"\n",
    "output_file_path = currentdir + r\"/HydroLogic_Inundation_toolbox/Data/Tol/output\"\n",
    "Path(output_file_path).mkdir(exist_ok=True)"
   ]
  },
  {
   "cell_type": "code",
   "execution_count": 3,
   "id": "db33910e",
   "metadata": {},
   "outputs": [],
   "source": [
    "# raster options\n",
    "resolution = 10  # m\n",
    "distance_tol = 36  # m\n",
    "interpolation = r\"nearest\""
   ]
  },
  {
   "cell_type": "markdown",
   "id": "b4a307ff",
   "metadata": {},
   "source": [
    "## Determine maximum water depth using fou file\n",
    "- 1PT10_fou.nc\n",
    "- variable: r\"Mesh2d_fourier002_max_depth\""
   ]
  },
  {
   "cell_type": "code",
   "execution_count": null,
   "id": "52ddee18",
   "metadata": {},
   "outputs": [],
   "source": []
  },
  {
   "cell_type": "markdown",
   "id": "f6c8a9ab",
   "metadata": {},
   "source": [
    "## Determine arrival time using clm file\n",
    "- 1PT10_clm.nc\n",
    "- variable: r\"Mesh2d_waterdepth\""
   ]
  },
  {
   "cell_type": "code",
   "execution_count": null,
   "id": "5283e7d2",
   "metadata": {},
   "outputs": [],
   "source": []
  },
  {
   "cell_type": "markdown",
   "id": "1a595989",
   "metadata": {},
   "source": [
    "## Determine final water depth using map file\n",
    "- 1PT10_map.nc\n",
    "- variable: r\"Mesh2d_waterdepth\""
   ]
  },
  {
   "cell_type": "code",
   "execution_count": null,
   "id": "bdd8276a",
   "metadata": {},
   "outputs": [],
   "source": []
  }
 ],
 "metadata": {
  "kernelspec": {
   "display_name": "inundation",
   "language": "python",
   "name": "inundation"
  },
  "language_info": {
   "codemirror_mode": {
    "name": "ipython",
    "version": 3
   },
   "file_extension": ".py",
   "mimetype": "text/x-python",
   "name": "python",
   "nbconvert_exporter": "python",
   "pygments_lexer": "ipython3",
   "version": "3.10.5"
  }
 },
 "nbformat": 4,
 "nbformat_minor": 5
}
